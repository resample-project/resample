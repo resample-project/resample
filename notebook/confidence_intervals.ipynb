{
  "cells": [
    {
      "cell_type": "code",
      "source": [
        "import numpy as np\n",
        "from resample.bootstrap import confidence_interval as ci, bootstrap\n",
        "import matplotlib.pyplot as plt"
      ],
      "outputs": [],
      "execution_count": 15,
      "metadata": {
        "collapsed": true,
        "jupyter": {
          "source_hidden": false,
          "outputs_hidden": false
        },
        "nteract": {
          "transient": {
            "deleting": false
          }
        },
        "execution": {
          "shell.execute_reply": "2020-06-29T11:49:47.648Z",
          "iopub.status.busy": "2020-06-29T11:49:47.640Z",
          "iopub.execute_input": "2020-06-29T11:49:47.642Z",
          "iopub.status.idle": "2020-06-29T11:49:47.646Z"
        }
      }
    },
    {
      "cell_type": "code",
      "source": [
        "rng = np.random.default_rng(1)\n",
        "data = rng.exponential(size=100)\n",
        "\n",
        "rep = bootstrap(np.median, data, 1000, random_state=rng)\n",
        "cis = {m:ci(np.median, data, 0.68, size=100, ci_method=m, random_state=rng) for m in (\"percentile\", \"student\", \"bca\")}\n",
        "\n",
        "mr = np.mean(rep)\n",
        "sr = np.std(rep)\n",
        "for i, (m, v) in enumerate(cis.items()):\n",
        "  for j in (0, 1):\n",
        "    plt.axvline(v[j], color=f\"C{i}\", label=m if j == 0 else None)\n",
        "plt.hist(rep, facecolor=\"0.8\")\n",
        "plt.axvline(np.log(2), lw=3, color=\"k\")\n",
        "plt.errorbar(mr, 100, 0, sr, fmt=\"o\") \n",
        "plt.legend();"
      ],
      "outputs": [
        {
          "output_type": "display_data",
          "data": {
            "text/plain": [
              "<Figure size 432x288 with 1 Axes>"
            ],
            "image/png": "[encoded data removed]"
          },
          "metadata": {
            "needs_background": "light"
          }
        }
      ],
      "execution_count": 281,
      "metadata": {
        "collapsed": true,
        "jupyter": {
          "source_hidden": false,
          "outputs_hidden": false
        },
        "nteract": {
          "transient": {
            "deleting": false
          }
        },
        "execution": {
          "iopub.status.busy": "2020-06-29T12:21:41.637Z",
          "iopub.execute_input": "2020-06-29T12:21:41.639Z",
          "iopub.status.idle": "2020-06-29T12:21:41.838Z",
          "shell.execute_reply": "2020-06-29T12:21:41.842Z"
        }
      }
    }
  ],
  "metadata": {
    "kernel_info": {
      "name": "python3"
    },
    "language_info": {
      "name": "python",
      "version": "3.7.7",
      "mimetype": "text/x-python",
      "codemirror_mode": {
        "name": "ipython",
        "version": 3
      },
      "pygments_lexer": "ipython3",
      "nbconvert_exporter": "python",
      "file_extension": ".py"
    },
    "kernelspec": {
      "argv": [
        "/usr/local/opt/python/bin/python3.7",
        "-m",
        "ipykernel_launcher",
        "-f",
        "{connection_file}"
      ],
      "display_name": "Python 3",
      "language": "python",
      "name": "python3"
    },
    "nteract": {
      "version": "0.23.3"
    }
  },
  "nbformat": 4,
  "nbformat_minor": 0
}