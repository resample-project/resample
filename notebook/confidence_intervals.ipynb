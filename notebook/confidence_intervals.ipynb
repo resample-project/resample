{
 "cells": [
  {
   "cell_type": "markdown",
   "metadata": {},
   "source": [
    "# Confidence intervals\n",
    "\n",
    "In this notebook, we look at the confidence interval methods in `resample`. We try them on the median of a exponential distribution."
   ]
  },
  {
   "cell_type": "code",
   "execution_count": 1,
   "metadata": {
    "execution": {
     "iopub.execute_input": "2020-06-29T11:49:47.642Z",
     "iopub.status.busy": "2020-06-29T11:49:47.640Z",
     "iopub.status.idle": "2020-06-29T11:49:47.646Z",
     "shell.execute_reply": "2020-06-29T11:49:47.648Z"
    },
    "jupyter": {
     "outputs_hidden": false,
     "source_hidden": false
    },
    "nteract": {
     "transient": {
      "deleting": false
     }
    }
   },
   "outputs": [],
   "source": [
    "import numpy as np\n",
    "from resample.bootstrap import confidence_interval as ci, bootstrap\n",
    "import matplotlib.pyplot as plt"
   ]
  },
  {
   "cell_type": "code",
   "execution_count": 8,
   "metadata": {
    "execution": {
     "iopub.execute_input": "2020-06-29T12:21:41.639Z",
     "iopub.status.busy": "2020-06-29T12:21:41.637Z",
     "iopub.status.idle": "2020-06-29T12:21:41.838Z",
     "shell.execute_reply": "2020-06-29T12:21:41.842Z"
    },
    "jupyter": {
     "outputs_hidden": false,
     "source_hidden": false
    },
    "nteract": {
     "transient": {
      "deleting": false
     }
    }
   },
   "outputs": [
    {
     "data": {
      "image/png": "[encoded data removed]",
      "text/plain": [
       "<Figure size 432x288 with 1 Axes>"
      ]
     },
     "metadata": {
      "needs_background": "light"
     },
     "output_type": "display_data"
    }
   ],
   "source": [
    "rng = np.random.default_rng(1)\n",
    "\n",
    "# generate data\n",
    "data = rng.exponential(size=1000)\n",
    "\n",
    "# generate confidence intervals\n",
    "cis = {\n",
    "    m:ci(np.median, data, 0.68, size=100, ci_method=m, random_state=rng)\n",
    "    for m in (\"percentile\", \"student\", \"bca\")\n",
    "}\n",
    "\n",
    "# compute mean and std. deviation of replicas\n",
    "rep = bootstrap(np.median, data, 1000, random_state=rng)\n",
    "mr = np.mean(rep)\n",
    "sr = np.std(rep)\n",
    "\n",
    "# draw everything\n",
    "for i, (m, v) in enumerate(cis.items()):\n",
    "    for j in (0, 1):\n",
    "        plt.axvline(v[j], color=f\"C{i}\", label=m if j == 0 else None)\n",
    "\n",
    "plt.hist(rep, facecolor=\"0.8\")\n",
    "plt.axvline(np.log(2), lw=3, color=\"k\")\n",
    "plt.errorbar(mr, 100, 0, sr, fmt=\"o\") \n",
    "plt.legend();"
   ]
  },
  {
   "cell_type": "markdown",
   "metadata": {},
   "source": [
    "The mean of the replicas and its standard deviation is shown with the dot and the horizontal error bar. The three interval methods are shown as thin vertical lines. The thick black line is the true value of the median for an exponential distribution."
   ]
  }
 ],
 "metadata": {
  "kernel_info": {
   "name": "python3"
  },
  "kernelspec": {
   "display_name": "Python 3",
   "language": "python",
   "name": "python3"
  },
  "nteract": {
   "version": "0.23.3"
  }
 },
 "nbformat": 4,
 "nbformat_minor": 1
}
